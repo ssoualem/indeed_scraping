{
 "cells": [
  {
   "cell_type": "markdown",
   "metadata": {},
   "source": [
    "#Web Scraping Indeed for Key Data Science Job Skills"
   ]
  },
  {
   "cell_type": "markdown",
   "metadata": {},
   "source": [
    "As many of you probably know, being a data scientist can require a pretty large skill set . . .\n",
    "\n",
    "<img src=\"DSMap.png\", width = 1000, height = 800>\n",
    "Credit: [Swami Chandrasekaran](http://nirvacana.com/thoughts/becoming-a-data-scientist/)\n",
    "\n",
    "To master all of that at a high level would probably take a lifetime! I'm sure many data scientists would love to be highly skilled in all of these areas if possible, but busy Ph.D. students like me (that are trying to graduate in an efficient manner!) don't have enough time to focus on all of these skills.\n",
    "\n",
    "So which of these skills are most employers actually looking for? \n",
    "\n",
    "On DataScienceCentral, I saw a link to [this posting](http://kumaranpm.blogspot.com/2014/11/popular-software-skills-in-data-science.html) by Kumaran Ponnambalam where he examined this question with R by scraping job postings. I thought it was an interesting idea. I wanted to find out this information for myself, as updated as possible, so I could see any changing trends in the job market. \n",
    "\n",
    "It would also be nice to see if different cities have different skills they like to emphasize (i.e. does the Silicon Valley market have different skills they prefer compared to New York City?)\n",
    "\n",
    "Data like this isn't going to be easily accessible through a .csv or database. Sometimes, you are going to have to get it yourself. That may require [web scraping](http://en.wikipedia.org/wiki/Web_scraping), which automates the process of collecting data from websites. I've always thought this sounded very cool, but I didn't know how to do it. \n",
    "\n",
    "Luckily, Greg Reda at Datascope Analytics had a great blog post about web scraping that helped me complete this project (see it [here](http://www.gregreda.com/2013/03/03/web-scraping-101-with-python/)). He did a great job! I'm not going to go into as much detail about web scraping as he did in this notebook, so I would recommend going to his blog post if you want to learn the basics.\n",
    "\n",
    "So, in this notebook, I am going to scrape job postings from Indeed.com for data science jobs and see which skills employers want the most (Python or R? Are they interested in Spark yet? How dominant are NoSQL databases? Are they using proprietary software like SAS or are companies preferring open source now?) To make it even better, I will create the program so that I can have a detailed breakdown by city. "
   ]
  },
  {
   "cell_type": "markdown",
   "metadata": {
    "collapsed": true
   },
   "source": [
    "##Program Setup"
   ]
  },
  {
   "cell_type": "markdown",
   "metadata": {},
   "source": [
    "The basic workflow of the program will be:\n",
    "\n",
    "- Enter the city we want to search for jobs in matching the title \"data scientist\" (in quotes so it is a direct match) on Indeed.com\n",
    "- See the list of job postings displayed by the website\n",
    "- Access the link to each job posting\n",
    "- Scrape all of the html in the job posting\n",
    "- Filter it to only include words\n",
    "- Reduce the words to a set so that each word is only counted once\n",
    "- Keep a running total of the words and see how often a job posting included them\n",
    "\n",
    "We will create two functions. The first will scape an individual job posting for the HTML, clean it up to get the words only, then output the final list of words. The second will manage which URLs to access via the job postings Indeed's website links to. \n",
    "\n",
    "In this notebook, we will use the urllib2 library to connect to the websites, the BeautifulSoup library to collect all of the HTML, the re library for parsing the words and filtering out other markup based on regular expressions, and pandas to manage and plot the final results. "
   ]
  },
  {
   "cell_type": "markdown",
   "metadata": {},
   "source": [
    "## The First Function: Cleaning a Website"
   ]
  },
  {
   "cell_type": "markdown",
   "metadata": {},
   "source": [
    "This function will be called every time we access a new job posting. Its input is a URL for a website, while the output will be a final set of words collected from that website. \n",
    "\n",
    "In this notebook, I am going to import all of the libraries necessary first. "
   ]
  },
  {
   "cell_type": "code",
   "execution_count": 21,
   "metadata": {
    "collapsed": false
   },
   "outputs": [
    {
     "ename": "ImportError",
     "evalue": "No module named Tracer",
     "output_type": "error",
     "traceback": [
      "\u001b[0;31m---------------------------------------------------------------------------\u001b[0m",
      "\u001b[0;31mImportError\u001b[0m                               Traceback (most recent call last)",
      "\u001b[0;32m<ipython-input-21-858b836ac93a>\u001b[0m in \u001b[0;36m<module>\u001b[0;34m()\u001b[0m\n\u001b[1;32m      7\u001b[0m \u001b[0;32mimport\u001b[0m \u001b[0mpandas\u001b[0m \u001b[0;32mas\u001b[0m \u001b[0mpd\u001b[0m \u001b[0;31m# For converting results to a dataframe and bar chart plots\u001b[0m\u001b[0;34m\u001b[0m\u001b[0m\n\u001b[1;32m      8\u001b[0m \u001b[0mget_ipython\u001b[0m\u001b[0;34m(\u001b[0m\u001b[0;34m)\u001b[0m\u001b[0;34m.\u001b[0m\u001b[0mmagic\u001b[0m\u001b[0;34m(\u001b[0m\u001b[0;34mu'matplotlib inline'\u001b[0m\u001b[0;34m)\u001b[0m\u001b[0;34m\u001b[0m\u001b[0m\n\u001b[0;32m----> 9\u001b[0;31m \u001b[0;32mimport\u001b[0m \u001b[0mTracer\u001b[0m\u001b[0;34m\u001b[0m\u001b[0m\n\u001b[0m",
      "\u001b[0;31mImportError\u001b[0m: No module named Tracer"
     ]
    }
   ],
   "source": [
    "from bs4 import BeautifulSoup # For HTML parsing\n",
    "import urllib2 # Website connections\n",
    "import re # Regular expressions\n",
    "from time import sleep # To prevent overwhelming the server between connections\n",
    "from collections import Counter # Keep track of our term counts\n",
    "from nltk.corpus import stopwords # Filter out stopwords, such as 'the', 'or', 'and'\n",
    "import pandas as pd # For converting results to a dataframe and bar chart plots\n",
    "%matplotlib inline"
   ]
  },
  {
   "cell_type": "markdown",
   "metadata": {},
   "source": [
    "Now create our first website parsing function."
   ]
  },
  {
   "cell_type": "code",
   "execution_count": 4,
   "metadata": {
    "collapsed": true
   },
   "outputs": [],
   "source": [
    "def text_cleaner(website):\n",
    "    '''\n",
    "    This function just cleans up the raw html so that I can look at it.\n",
    "    Inputs: a URL to investigate\n",
    "    Outputs: Cleaned text only\n",
    "    '''\n",
    "    try:\n",
    "        site = urllib2.urlopen(website).read() # Connect to the job posting\n",
    "    except: \n",
    "        return   # Need this in case the website isn't there anymore or some other weird connection problem \n",
    "    \n",
    "    soup_obj = BeautifulSoup(site) # Get the html from the site\n",
    "    \n",
    "    if len(soup_obj) == 0: # In case the default parser lxml doesn't work, try another one\n",
    "        soup_obj = BeautifulSoup(site, 'html5lib')\n",
    "    \n",
    "    \n",
    "    for script in soup_obj([\"script\", \"style\"]):\n",
    "        script.extract() # Remove these two elements from the BS4 object\n",
    "    \n",
    "    \n",
    "\n",
    "    text = soup_obj.get_text() # Get the text from this\n",
    "\n",
    "    \n",
    "\n",
    "    lines = (line.strip() for line in text.splitlines()) # break into lines\n",
    "\n",
    "    \n",
    "    \n",
    "    chunks = (phrase.strip() for line in lines for phrase in line.split(\"  \")) # break multi-headlines into a line each\n",
    "    \n",
    "\n",
    "    text = ''.join(chunk for chunk in chunks if chunk).encode('utf-8') # Get rid of all blank lines and ends of line\n",
    "    \n",
    "    # Now clean out all of the unicode junk (this line works great!!!)\n",
    "    \n",
    "    try:\n",
    "        text = text.decode('unicode_escape').encode('ascii', 'ignore') # Need this as some websites aren't formatted\n",
    "    except:                                                            # in a way that this works, can occasionally throw\n",
    "        return                                                         # an exception\n",
    "   \n",
    "    \n",
    "    text = re.sub(\"[^a-zA-Z+3]\",\" \", text)  # Now get rid of any terms that aren't words (include 3 for d3.js)\n",
    "                                             # Also include + for C++\n",
    "    text = re.sub(r\"([a-z])([A-Z])\", r\"\\1 \\2\", text) # Fix spacing issue from merged words\n",
    "    \n",
    "    text = text.lower().split()  # Go to lower case and split them apart\n",
    "    \n",
    "    \n",
    "    stop_words = set(stopwords.words(\"english\")) # Filter out any stop words\n",
    "    text = [w for w in text if not w in stop_words]\n",
    "    \n",
    "    \n",
    "    \n",
    "    text = list(set(text)) # Last, just get the set of these. Ignore counts (we are just looking at whether a term existed\n",
    "                           # or not on the website)\n",
    "    \n",
    "    return text"
   ]
  },
  {
   "cell_type": "markdown",
   "metadata": {},
   "source": [
    "As you can see in the code above, a lot of cleaning for the raw html is necessary to get the final terms we are looking for. It extracts the relevant portions of the html, gets the text, removes blank lines and line endings, removes unicode, and filters with regular expressions to include only words. To see what the final result looks like, let's try calling this function on a sample job posting. The one I am using is a job posting for a [Data Scientist at Indeed itself](http://www.indeed.com/viewjob?jk=5505e59f8e5a32a4&q=%22data+scientist%22&tk=19ftfgsmj19ti0l3&from=web&advn=1855944161169178&sjdu=QwrRXKrqZ3CNX5W-O9jEvWC1RT2wMYkGnZrqGdrncbKqQ7uwTLXzT1_ME9WQ4M-7om7mrHAlvyJT8cA_14IV5w&pub=pub-indeed)!\n",
    "\n",
    "If you are reading the notebook interactively, the example job posting may have disappeared so you can try your own to see how the function works. "
   ]
  },
  {
   "cell_type": "code",
   "execution_count": 9,
   "metadata": {
    "collapsed": false
   },
   "outputs": [
    {
     "data": {
      "text/plain": [
       "['operations',\n",
       " 'exclusive',\n",
       " 'code',\n",
       " 'certification',\n",
       " 'essence',\n",
       " 'executive',\n",
       " 'results',\n",
       " 'jpmorgan',\n",
       " 'press',\n",
       " 'session',\n",
       " 'businesses',\n",
       " 'committee',\n",
       " 'go',\n",
       " 'saved',\n",
       " 'find',\n",
       " 'previous',\n",
       " 'profitable',\n",
       " 'submit',\n",
       " 'disconnect',\n",
       " 'candidate']"
      ]
     },
     "execution_count": 9,
     "metadata": {},
     "output_type": "execute_result"
    }
   ],
   "source": [
    "sample = text_cleaner('https://www.indeed.com/rc/clk?jk=982e76744dd80d57&fccid=c46d0116f6e69eae')\n",
    "#sample = text_cleaner('https://scholastic.taleo.net/careersection/2/jobdetail.ftl?job=A0300062&tz=GMT-05:00&src=JB-10073')\n",
    "sample[:20] # Just show the first 20 words"
   ]
  },
  {
   "cell_type": "markdown",
   "metadata": {
    "collapsed": true
   },
   "source": [
    "Now that we can extract terms from the website with our text_cleaner function, let's build another function that will call this and automatically loop through all of the websites on Indeed for us."
   ]
  },
  {
   "cell_type": "markdown",
   "metadata": {},
   "source": [
    "##The Second Function: Accessing the Job Postings"
   ]
  },
  {
   "cell_type": "markdown",
   "metadata": {},
   "source": [
    "This next function will allow us to search for \"data scientist\" jobs in a particular city (or nationally if we want to see everything!) and plot the final results in a bar chart so we can see which skills are most frequently desired. \n",
    "\n",
    "This second function is fairly long, so I will try to explain how everything works through a lot of commentary. The basic idea is to look through Indeed's pages of job results and click on all of the job links, but only in the center of the page where all of the jobs are posted (not on the edges). See an example [here](http://www.indeed.com/jobs?q=%22data+scientist%22&l=). I just want the URLs in the \"center\" column of the website. You can get an idea of how Indeed organized the website by using a browser like Firefox or Chrome. Right click on the page to see the \"Inspect Element\" option in Firefox and the HTML will now be visible to you."
   ]
  },
  {
   "cell_type": "code",
   "execution_count": 48,
   "metadata": {
    "collapsed": false
   },
   "outputs": [],
   "source": [
    "def skills_info(city = None, state = None):\n",
    "    '''\n",
    "    This function will take a desired city/state and look for all new job postings\n",
    "    on Indeed.com. It will crawl all of the job postings and keep track of how many\n",
    "    use a preset list of typical data science skills. The final percentage for each skill\n",
    "    is then displayed at the end of the collation. \n",
    "    \n",
    "    Inputs: The location's city and state. These are optional. If no city/state is input, \n",
    "    the function will assume a national search (this can take a while!!!).\n",
    "    Input the city/state as strings, such as skills_info('Chicago', 'IL').\n",
    "    Use a two letter abbreviation for the state.\n",
    "    \n",
    "    Output: A bar chart showing the most commonly desired skills in the job market for \n",
    "    a data scientist. \n",
    "    '''\n",
    "    \n",
    "    final_job = 'data+scientist' # searching for data scientist exact fit(\"data scientist\" on Indeed search)\n",
    "    \n",
    "    # Make sure the city specified works properly if it has more than one word (such as San Francisco)\n",
    "    if city is not None:\n",
    "        final_city = city.split() \n",
    "        final_city = '+'.join(word for word in final_city)\n",
    "        final_site_list = ['http://www.indeed.com/jobs?q=%22', final_job, '%22&l=', final_city,\n",
    "                   '%2C+', state] # Join all of our strings together so that indeed will search correctly\n",
    "    else:\n",
    "        final_site_list = ['http://www.indeed.com/jobs?q=\"', final_job, '\"']\n",
    "\n",
    "    final_site = ''.join(final_site_list) # Merge the html address together into one string\n",
    "\n",
    "\n",
    "    base_url = 'http://www.indeed.com'\n",
    "\n",
    "\n",
    "    try:\n",
    "        html = urllib2.urlopen(final_site).read() # Open up the front page of our search first\n",
    "    except:\n",
    "        'That city/state combination did not have any jobs. Exiting . . .' # In case the city is invalid\n",
    "        return\n",
    "    soup = BeautifulSoup(html) # Get the html from the first page\n",
    "\n",
    "    # Now find out how many jobs there were\n",
    "\n",
    "    num_jobs_area = soup.find(id = 'searchCount').string.encode('utf-8') # Now extract the total number of jobs found\n",
    "                                                                         # The 'searchCount' object has this\n",
    "\n",
    "    job_numbers = re.findall('\\d+', num_jobs_area) # Extract the total jobs found from the search result\n",
    "\n",
    "\n",
    "    if len(job_numbers) > 3: # Have a total number of jobs greater than 1000\n",
    "        total_num_jobs = (int(job_numbers[2])*1000) + int(job_numbers[3])\n",
    "    else:\n",
    "        total_num_jobs = int(job_numbers[2]) \n",
    "\n",
    "    city_title = city\n",
    "    if city is None:\n",
    "        city_title = 'Nationwide'\n",
    "    \n",
    "    print 'There were', total_num_jobs, 'jobs found,', city_title # Display how many jobs were found\n",
    "\n",
    "    num_pages = total_num_jobs/10 # This will be how we know the number of times we need to iterate over each new\n",
    "                                  # search result page\n",
    "    job_descriptions = [] # Store all our descriptions in this list\n",
    "\n",
    "    for i in xrange(1,num_pages+1): # Loop through all of our search result pages\n",
    "        print 'Getting page', i\n",
    "        start_num = str(i*10) # Assign the multiplier of 10 to view the pages we want\n",
    "        current_page = ''.join([final_site, '&start=', start_num])\n",
    "        # Now that we can view the correct 10 job returns, start collecting the text samples from each\n",
    "        \n",
    "        html_page = urllib2.urlopen(current_page).read() # Get the page\n",
    "        \n",
    "        page_obj = BeautifulSoup(html_page) # Locate all of the job links\n",
    "        job_link_area = page_obj.find(id = 'resultsCol') # The center column on the page where the job postings exist\n",
    "        \n",
    "        \n",
    "       \n",
    "        # Get the URLS for the jobs\n",
    "        #job_URLS = [base_url + link.get('href') for link in job_link_area.find_all('a')]\n",
    "        job_URLS = [base_url + link.get('href') if link.get('href') else '' for link in job_link_area.find_all('a')]\n",
    "        \n",
    "        \n",
    "        job_URLS = filter(lambda x:'clk' in x, job_URLS) # Now get just the job related URLS\n",
    "        \n",
    "    \n",
    "        for j in xrange(0,len(job_URLS)):\n",
    "            final_description = text_cleaner(job_URLS[j])\n",
    "            if final_description: # So that we only append when the website was accessed correctly\n",
    "                job_descriptions.append(final_description)        \n",
    "            sleep(1) # So that we don't be jerks. If you have a very fast internet connection you could hit the server a lot! \n",
    "    \n",
    "    \n",
    "            \n",
    "    \n",
    "    \n",
    "    print 'Done with collecting the job postings!'    \n",
    "    print 'There were', len(job_descriptions), 'jobs successfully found.'\n",
    "\n",
    "\n",
    "    doc_frequency = Counter() # This will create a full counter of our terms. \n",
    "    [doc_frequency.update(item) for item in job_descriptions] # List comp\n",
    "\n",
    "    # Now we can just look at our final dict list inside doc_frequency\n",
    "\n",
    "    # Obtain our key terms and store them in a dict. These are the key data science skills we are looking for\n",
    "\n",
    "    prog_lang_dict = Counter({'R':doc_frequency['r'], 'Python':doc_frequency['python'],\n",
    "                    'Java':doc_frequency['java'], 'C++':doc_frequency['c++'],\n",
    "                   'Ruby':doc_frequency['ruby'],\n",
    "                  'Perl':doc_frequency['perl'], 'Matlab':doc_frequency['matlab'],\n",
    "                  'JavaScript':doc_frequency['javascript'], 'Scala': doc_frequency['scala']})\n",
    "                  \n",
    "    analysis_tool_dict = Counter({'Excel':doc_frequency['excel'],  'Tableau':doc_frequency['tableau'],\n",
    "                      'D3.js':doc_frequency['d3.js'], 'SAS':doc_frequency['sas'],\n",
    "                      'SPSS':doc_frequency['spss'], 'D3':doc_frequency['d3']})  \n",
    "\n",
    "    hadoop_dict = Counter({'Hadoop':doc_frequency['hadoop'], 'MapReduce':doc_frequency['mapreduce'],\n",
    "               'Spark':doc_frequency['spark'], 'Pig':doc_frequency['pig'],\n",
    "               'Hive':doc_frequency['hive'], 'Shark':doc_frequency['shark'],\n",
    "               'Oozie':doc_frequency['oozie'], 'ZooKeeper':doc_frequency['zookeeper'],\n",
    "               'Flume':doc_frequency['flume'], 'Mahout':doc_frequency['mahout']})\n",
    "               \n",
    "    database_dict = Counter({'SQL':doc_frequency['sql'], 'NoSQL':doc_frequency['nosql'],\n",
    "                 'HBase':doc_frequency['hbase'], 'Cassandra':doc_frequency['cassandra'],\n",
    "                 'MongoDB':doc_frequency['mongodb']})\n",
    "                 \n",
    "           \n",
    "    overall_total_skills = prog_lang_dict + analysis_tool_dict + hadoop_dict + database_dict # Combine our Counter objects\n",
    "\n",
    "    \n",
    "\n",
    "    final_frame = pd.DataFrame(overall_total_skills.items(), columns = ['Term', 'NumPostings']) # Convert these terms to a \n",
    "                                                                                                # dataframe \n",
    "\n",
    "    # Change the values to reflect a percentage of the postings \n",
    "\n",
    "    final_frame.NumPostings = (final_frame.NumPostings)*100/len(job_descriptions) # Gives percentage of job postings \n",
    "                                                                                  #  having that term \n",
    "\n",
    "    # Sort the data for plotting purposes\n",
    "\n",
    "    final_frame.sort(columns = 'NumPostings', ascending = False, inplace = True)\n",
    "\n",
    "    # Get it ready for a bar plot\n",
    "    \n",
    "    final_plot = final_frame.plot(x = 'Term', kind = 'bar', legend = None, \n",
    "                              title = 'Percentage of Data Scientist Job Ads with a Key Skill, ' + city_title)\n",
    "    \n",
    "    final_plot.set_ylabel('Percentage Appearing in Job Ads')\n",
    "    fig = final_plot.get_figure() # Have to convert the pandas plot object to a matplotlib object\n",
    "    \n",
    "    \n",
    "    return fig, final_frame # End of the function"
   ]
  },
  {
   "cell_type": "markdown",
   "metadata": {},
   "source": [
    "Let's now try running our new function on Seattle, Washington to see what results we get. Just as a note, all of these results were run on March 8, 2015 (with the exception of the national results that were run the next day). "
   ]
  },
  {
   "cell_type": "code",
   "execution_count": 49,
   "metadata": {
    "collapsed": false,
    "scrolled": true
   },
   "outputs": [
    {
     "name": "stdout",
     "output_type": "stream",
     "text": [
      "There were 40 jobs found, Detroit\n",
      "Getting page 1\n",
      "['operations', 'chain', 'hands', 'insight', 'results', 'existing', 'stability', 'sources', 'scientist', 'including', 'solutions', 'participate', 'gdi', 'availability', 'issues', 'rapidly', 'knowledge', 'solving', 'logged', 'complex', 'operational', 'analytic', 'add', 'production', 'location', 'include', 'presentation', 'achieve', 'stakeholders', 'global', 'vendor', 'programmatically', 'preferred', 'break', 'deployment', 'communities', 'projects', 'processes', 'resolve', 'skills', 'evaluation', 'teams', 'communications', 'team', 'sustainable', 'enhance', 'vision', 'verbal', 'requirements', 'related', 'maintain', 'analytics', 'operation', 'establishing', 'techniques', 'category', 'lead', 'forums', 'review', 'gdia', 'familiarity', 'integration', 'research', 'looking', 'may', 'written', 'functionally', 'innovation', 'new', 'experience', 'ref', 'public', 'demonstrated', 'discovery', 'infrastructure', 'jobs', 'ability', 'business', 'resume', 'eco', 'commercial', 'cart', 'understanding', 'efficiency', 'job', 'base', 'asg', 'groups', 'group', 'post', 'strong', 'improve', 'search', 'benefits', 'would', 'forum', 'launch', 'host', 'contract', 'prior', 'social', 'action', 'login', 'create', 'plan', 'computational', 'members', 'supply', 'within', 'collaborating', 'functional', 'strategic', 'satisfaction', 'email', 'appropriate', 'learning', 'parties', 'improvement', 'tools', 'training', 'use', 'management', 'working', 'area', 'support', 'system', 'miminimum', 'asset', 'vehicle', 'analyze', 'type', 'friend', 'define', 'salary', 'relationship', 'sessions', 'company', 'owners', 'ensuring', 'external', 'excellent', 'assets', 'analyst', 'insights', 'customer', 'yrs', 'preprocesses', 'developing', 'websites', 'work', 'value', 'project', 'future', 'bachelors', 'problem', 'similar', 'partnerships', 'providers', 'process', 'expanding', 'contribute', 'incremental', 'refine', 'formulation', 'return', 'education', 'internal', 'documents', 'develop', 'open', 'perform', 'media', 'transactional', 'responsible', 'storage', 'cross', 'member', 'also', 'dearborn', 'client', 'take', 'digital', 'department', 'ingesting', 'tool', 'accuracy', 'development', 'exhaust', 'description', 'escalate', 'collaboration', 'problems', 'metrics', 'renaissance', 'connected', 'user', 'establish', 'organization', 'completeness', 'repeatable', 'data', 'implement', 'building', 'center', 'third', 'performance', 'required', 'drive', 'analysis', 'complexity', 'ingestion', 'solve', 'timeliness', 'professional', 'hadoop']\n",
      "exit\n"
     ]
    }
   ],
   "source": [
    "seattle_info = skills_info(city = 'Detroit', state = 'MI') "
   ]
  },
  {
   "cell_type": "markdown",
   "metadata": {},
   "source": [
    "Looking at the plot above, it seems Python is definitely the most commonly requested skill. Relational databases are used far more commonly than unstructured NoSQL databases. Spark doesn't seem to have caught on to very many jobs yet (only about 7%) but it is listed more frequently than Pig, which has been around much longer! It also seems R is starting to lose the infamous Python vs. R battle that data scientists like arguing about (in my opinion just use both for their strengths!) \n",
    "\n",
    "What if we tried a different job market, such as Chicago? How do things change here?"
   ]
  },
  {
   "cell_type": "code",
   "execution_count": 30,
   "metadata": {
    "collapsed": false
   },
   "outputs": [
    {
     "name": "stdout",
     "output_type": "stream",
     "text": [
      "There were 63 jobs found, Chicago\n",
      "Getting page 1\n",
      "Getting page 2\n",
      "Getting page 3\n",
      "Getting page 4\n",
      "Getting page 5\n",
      "Getting page 6\n",
      "Done with collecting the job postings!\n",
      "There were 68 jobs successfully found.\n"
     ]
    },
    {
     "data": {
      "image/png": "[encoded data removed]",
      "text/plain": [
       "<matplotlib.figure.Figure at 0x7f13fdddc490>"
      ]
     },
     "metadata": {},
     "output_type": "display_data"
    }
   ],
   "source": [
    "chicago_info = skills_info(city = 'Chicago', state = 'IL')"
   ]
  },
  {
   "cell_type": "markdown",
   "metadata": {},
   "source": [
    "In the case of Chicago, it seems Hadoop is the top skill to have. My guess is some of the companies list Hadoop without really understanding that Hadoop is an entire framework and not a specific \"skill.\" Python has now dropped to third place compared to Seattle. It also seems Spark appears in a greater percentage of job ads from Chicago than it did in Seattle, but Pig is requested more often. \n",
    "\n",
    "What about the largest Data Scientist job markets like San Francisco and New York City?"
   ]
  },
  {
   "cell_type": "code",
   "execution_count": 34,
   "metadata": {
    "collapsed": false
   },
   "outputs": [
    {
     "name": "stdout",
     "output_type": "stream",
     "text": [
      "There were 299 jobs found, San Francisco\n",
      "Getting page 1\n",
      "Getting page 2\n",
      "Getting page 3\n",
      "Getting page 4\n",
      "Getting page 5\n",
      "Getting page 6\n",
      "Getting page 7\n",
      "Getting page 8\n",
      "Getting page 9\n",
      "Getting page 10\n",
      "Getting page 11\n",
      "Getting page 12\n",
      "Getting page 13\n",
      "Getting page 14\n",
      "Getting page 15\n",
      "Getting page 16\n",
      "Getting page 17\n",
      "Getting page 18\n",
      "Getting page 19\n",
      "Getting page 20\n",
      "Getting page 21\n",
      "Getting page 22\n",
      "Getting page 23\n",
      "Getting page 24\n",
      "Getting page 25\n",
      "Getting page 26\n",
      "Getting page 27\n",
      "Getting page 28\n",
      "Getting page 29\n",
      "Done with collecting the job postings!\n",
      "There were 336 jobs successfully found.\n"
     ]
    },
    {
     "data": {
      "image/png": "[encoded data removed]",
      "text/plain": [
       "<matplotlib.figure.Figure at 0x7f13fcf885d0>"
      ]
     },
     "metadata": {},
     "output_type": "display_data"
    }
   ],
   "source": [
    "silicon_val_info = skills_info(city = 'San Francisco', state = 'CA')"
   ]
  },
  {
   "cell_type": "markdown",
   "metadata": {},
   "source": [
    "Once again, Python is the top skill demanded, with R in second. In terms of the Hadoop framework, Hive was the most in demand. This makes sense given most companies are still dealing with structured data and Hive's strong similarity to SQL. Spark also beat Excel (thank goodness!) yet the percentage of job descriptions mentioning Spark was smaller in the Bay Area than in Chicago. A bit surprising since Spark originated at Berkeley, but this is just a snapshot in time after all. "
   ]
  },
  {
   "cell_type": "code",
   "execution_count": 35,
   "metadata": {
    "collapsed": false
   },
   "outputs": [
    {
     "name": "stdout",
     "output_type": "stream",
     "text": [
      "There were 300 jobs found, New York\n",
      "Getting page 1\n",
      "Getting page 2\n",
      "Getting page 3\n",
      "Getting page 4\n",
      "Getting page 5\n",
      "Getting page 6\n",
      "Getting page 7\n",
      "Getting page 8\n",
      "Getting page 9\n",
      "Getting page 10\n",
      "Getting page 11\n",
      "Getting page 12\n",
      "Getting page 13\n",
      "Getting page 14\n",
      "Getting page 15\n",
      "Getting page 16\n",
      "Getting page 17\n",
      "Getting page 18\n",
      "Getting page 19\n",
      "Getting page 20\n",
      "Getting page 21\n",
      "Getting page 22\n",
      "Getting page 23\n",
      "Getting page 24\n",
      "Getting page 25\n",
      "Getting page 26\n",
      "Getting page 27\n",
      "Getting page 28\n",
      "Getting page 29\n",
      "Getting page 30\n",
      "Done with collecting the job postings!\n",
      "There were 335 jobs successfully found.\n"
     ]
    },
    {
     "data": {
      "image/png": "[encoded data removed]",
      "text/plain": [
       "<matplotlib.figure.Figure at 0x7f13fd681b10>"
      ]
     },
     "metadata": {},
     "output_type": "display_data"
    }
   ],
   "source": [
    "nyc_info = skills_info(city = 'New York', state = 'NY')"
   ]
  },
  {
   "cell_type": "markdown",
   "metadata": {},
   "source": [
    "New York City and San Francisco had almost exactly the same number of job postings, which seems to show the job market is relatively balanced between the two coasts. R **finally** comes in first place in the Big Apple, with Python close behind. Demand for Spark seems pretty limited still, however. I think Spark has a bright future, so this may change by the end of the year. \n",
    "\n",
    "Last, let's see the overall national trend. (I ran this separately because it takes a long time to run). "
   ]
  },
  {
   "cell_type": "code",
   "execution_count": 5,
   "metadata": {
    "collapsed": false
   },
   "outputs": [
    {
     "data": {
      "image/png": "[encoded data removed]",
      "text/plain": [
       "<matplotlib.figure.Figure at 0x7ff04a90a350>"
      ]
     },
     "execution_count": 5,
     "metadata": {},
     "output_type": "execute_result"
    }
   ],
   "source": [
    "national_info[0]"
   ]
  },
  {
   "cell_type": "markdown",
   "metadata": {
    "collapsed": true
   },
   "source": [
    "From a national standpoint, I notice a few interesting things:\n",
    "\n",
    "- Python is more in demand than R now for data science jobs. I think this will continue to be the trend as the Python data science community is further developed. Python is the \"glue\" that can hold almost every aspect of data science together. From data manipulation in pandas, machine learning with scikit-learn, web applications with Flash/Django, and an interface to Spark via PySpark, Python probably has you covered somewhere along the way. Is it always the best tool for the job? No, but it can usually get you there. R is still important in some areas where Python isn't quite as good yet (such as plotting or statistical libraries). With Microsoft [buying Revolution Analytics recently as an example](http://blog.revolutionanalytics.com/2015/01/revolution-acquired.html), R still has a role to play which is why it is in second place. \n",
    "\n",
    "- Data visualization doesn't seem to be in very high demand yet. D3 (or D3.js depending on the terminology the company used) is very low on the list. This surprised me because D3 seems to have [a lot of power](https://github.com/mbostock/d3/wiki/Gallery), yet it doesn't seem to have won many companies over as a skill they value. Tableau is still more popular, even though it isn't open source. \n",
    "\n",
    "- Even nationally, Spark is now (at least for this snapshot in time) a more in-demand skill than Excel. Perhaps companies are starting to realize that Excel isn't exactly the best tool for data science at scale (sorry Microsoft!) and is better suited for a Data Analyst role. "
   ]
  },
  {
   "cell_type": "markdown",
   "metadata": {},
   "source": [
    "##Summary"
   ]
  },
  {
   "cell_type": "markdown",
   "metadata": {},
   "source": [
    "Designing our own web crawler, we were able to find out which skills companies are most interested in for data science jobs on Indeed. Trends vary somewhat between cities, but the top four skills were Python, R, SQL, and Hadoop pretty consistently. Java, SAS, and Hive would probably be considered the second tier.\n",
    "\n",
    "Notice, however, that these skills are just for the software/programming languages that a data scientist should know. There are many others, such as machine learning, statistics, mathematics, and an understanding of what insights or products can be helpful to a business. These are also very important skills that are necessary to be a successful data scientist in my opinion, so don't forget about them!"
   ]
  }
 ],
 "metadata": {
  "anaconda-cloud": {},
  "kernelspec": {
   "display_name": "Python [conda env:py27]",
   "language": "python",
   "name": "conda-env-py27-py"
  },
  "language_info": {
   "codemirror_mode": {
    "name": "ipython",
    "version": 2
   },
   "file_extension": ".py",
   "mimetype": "text/x-python",
   "name": "python",
   "nbconvert_exporter": "python",
   "pygments_lexer": "ipython2",
   "version": "2.7.13"
  }
 },
 "nbformat": 4,
 "nbformat_minor": 0
}
